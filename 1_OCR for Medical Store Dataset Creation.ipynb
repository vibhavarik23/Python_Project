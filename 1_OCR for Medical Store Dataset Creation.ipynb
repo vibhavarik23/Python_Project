{
 "cells": [
  {
   "cell_type": "markdown",
   "id": "79bf57a4",
   "metadata": {},
   "source": [
    "Project Title:\n",
    "Intelligent Prescription Data Harvesting: OCR for Medical Store Dataset Creation"
   ]
  },
  {
   "cell_type": "markdown",
   "id": "885a3a52",
   "metadata": {},
   "source": [
    "Problem Statement:\n",
    "Manual data entry from patient prescriptions in medical stores is a time-consuming, error-prone, and inefficient process, hindering data analysis and potentially impacting operational efficiency. This project aims to automate the extraction of key information from prescriptions using Optical Character Recognition (OCR) to generate a structured dataset for improved record-keeping and analysis."
   ]
  },
  {
   "cell_type": "code",
   "execution_count": null,
   "id": "9eea786c",
   "metadata": {},
   "outputs": [],
   "source": []
  }
 ],
 "metadata": {
  "language_info": {
   "name": "python"
  }
 },
 "nbformat": 4,
 "nbformat_minor": 5
}
